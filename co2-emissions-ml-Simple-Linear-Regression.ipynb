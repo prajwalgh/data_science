{
 "cells": [
  {
   "cell_type": "code",
   "execution_count": 1,
   "id": "08fcbb66",
   "metadata": {
    "_cell_guid": "b1076dfc-b9ad-4769-8c92-a6c4dae69d19",
    "_uuid": "8f2839f25d086af736a60e9eeb907d3b93b6e0e5",
    "execution": {
     "iopub.execute_input": "2022-09-12T15:46:30.616887Z",
     "iopub.status.busy": "2022-09-12T15:46:30.616407Z",
     "iopub.status.idle": "2022-09-12T15:46:30.633535Z",
     "shell.execute_reply": "2022-09-12T15:46:30.632673Z"
    },
    "papermill": {
     "duration": 0.026899,
     "end_time": "2022-09-12T15:46:30.636147",
     "exception": false,
     "start_time": "2022-09-12T15:46:30.609248",
     "status": "completed"
    },
    "tags": []
   },
   "outputs": [],
   "source": [
    "import matplotlib.pyplot as plt\n",
    "import pandas as pd\n",
    "import pylab as pl\n",
    "import numpy as np\n",
    "%matplotlib inline"
   ]
  },
  {
   "cell_type": "code",
   "execution_count": 2,
   "id": "ef590b87",
   "metadata": {
    "execution": {
     "iopub.execute_input": "2022-09-12T15:46:30.646576Z",
     "iopub.status.busy": "2022-09-12T15:46:30.646198Z",
     "iopub.status.idle": "2022-09-12T15:46:30.693848Z",
     "shell.execute_reply": "2022-09-12T15:46:30.692716Z"
    },
    "papermill": {
     "duration": 0.055749,
     "end_time": "2022-09-12T15:46:30.696554",
     "exception": false,
     "start_time": "2022-09-12T15:46:30.640805",
     "status": "completed"
    },
    "tags": []
   },
   "outputs": [
    {
     "data": {
      "text/html": [
       "<div>\n",
       "<style scoped>\n",
       "    .dataframe tbody tr th:only-of-type {\n",
       "        vertical-align: middle;\n",
       "    }\n",
       "\n",
       "    .dataframe tbody tr th {\n",
       "        vertical-align: top;\n",
       "    }\n",
       "\n",
       "    .dataframe thead th {\n",
       "        text-align: right;\n",
       "    }\n",
       "</style>\n",
       "<table border=\"1\" class=\"dataframe\">\n",
       "  <thead>\n",
       "    <tr style=\"text-align: right;\">\n",
       "      <th></th>\n",
       "      <th>Unnamed: 0</th>\n",
       "      <th>MODELYEAR</th>\n",
       "      <th>MAKE</th>\n",
       "      <th>MODEL</th>\n",
       "      <th>VEHICLECLASS</th>\n",
       "      <th>ENGINESIZE</th>\n",
       "      <th>CYLINDERS</th>\n",
       "      <th>TRANSMISSION</th>\n",
       "      <th>FUELTYPE</th>\n",
       "      <th>FUELCONSUMPTION_CITY</th>\n",
       "      <th>FUELCONSUMPTION_HWY</th>\n",
       "      <th>FUELCONSUMPTION_COMB</th>\n",
       "      <th>FUELCONSUMPTION_COMB_MPG</th>\n",
       "      <th>CO2EMISSIONS</th>\n",
       "    </tr>\n",
       "  </thead>\n",
       "  <tbody>\n",
       "    <tr>\n",
       "      <th>0</th>\n",
       "      <td>0</td>\n",
       "      <td>2014</td>\n",
       "      <td>ACURA</td>\n",
       "      <td>ILX</td>\n",
       "      <td>COMPACT</td>\n",
       "      <td>2.0</td>\n",
       "      <td>4</td>\n",
       "      <td>AS5</td>\n",
       "      <td>Z</td>\n",
       "      <td>9.9</td>\n",
       "      <td>6.7</td>\n",
       "      <td>8.5</td>\n",
       "      <td>33</td>\n",
       "      <td>196</td>\n",
       "    </tr>\n",
       "    <tr>\n",
       "      <th>1</th>\n",
       "      <td>1</td>\n",
       "      <td>2014</td>\n",
       "      <td>ACURA</td>\n",
       "      <td>ILX</td>\n",
       "      <td>COMPACT</td>\n",
       "      <td>2.4</td>\n",
       "      <td>4</td>\n",
       "      <td>M6</td>\n",
       "      <td>Z</td>\n",
       "      <td>11.2</td>\n",
       "      <td>7.7</td>\n",
       "      <td>9.6</td>\n",
       "      <td>29</td>\n",
       "      <td>221</td>\n",
       "    </tr>\n",
       "    <tr>\n",
       "      <th>2</th>\n",
       "      <td>2</td>\n",
       "      <td>2014</td>\n",
       "      <td>ACURA</td>\n",
       "      <td>ILX HYBRID</td>\n",
       "      <td>COMPACT</td>\n",
       "      <td>1.5</td>\n",
       "      <td>4</td>\n",
       "      <td>AV7</td>\n",
       "      <td>Z</td>\n",
       "      <td>6.0</td>\n",
       "      <td>5.8</td>\n",
       "      <td>5.9</td>\n",
       "      <td>48</td>\n",
       "      <td>136</td>\n",
       "    </tr>\n",
       "    <tr>\n",
       "      <th>3</th>\n",
       "      <td>3</td>\n",
       "      <td>2014</td>\n",
       "      <td>ACURA</td>\n",
       "      <td>MDX 4WD</td>\n",
       "      <td>SUV - SMALL</td>\n",
       "      <td>3.5</td>\n",
       "      <td>6</td>\n",
       "      <td>AS6</td>\n",
       "      <td>Z</td>\n",
       "      <td>12.7</td>\n",
       "      <td>9.1</td>\n",
       "      <td>11.1</td>\n",
       "      <td>25</td>\n",
       "      <td>255</td>\n",
       "    </tr>\n",
       "    <tr>\n",
       "      <th>4</th>\n",
       "      <td>4</td>\n",
       "      <td>2014</td>\n",
       "      <td>ACURA</td>\n",
       "      <td>RDX AWD</td>\n",
       "      <td>SUV - SMALL</td>\n",
       "      <td>3.5</td>\n",
       "      <td>6</td>\n",
       "      <td>AS6</td>\n",
       "      <td>Z</td>\n",
       "      <td>12.1</td>\n",
       "      <td>8.7</td>\n",
       "      <td>10.6</td>\n",
       "      <td>27</td>\n",
       "      <td>244</td>\n",
       "    </tr>\n",
       "  </tbody>\n",
       "</table>\n",
       "</div>"
      ],
      "text/plain": [
       "   Unnamed: 0  MODELYEAR   MAKE       MODEL VEHICLECLASS  ENGINESIZE  \\\n",
       "0           0       2014  ACURA         ILX      COMPACT         2.0   \n",
       "1           1       2014  ACURA         ILX      COMPACT         2.4   \n",
       "2           2       2014  ACURA  ILX HYBRID      COMPACT         1.5   \n",
       "3           3       2014  ACURA     MDX 4WD  SUV - SMALL         3.5   \n",
       "4           4       2014  ACURA     RDX AWD  SUV - SMALL         3.5   \n",
       "\n",
       "   CYLINDERS TRANSMISSION FUELTYPE  FUELCONSUMPTION_CITY  FUELCONSUMPTION_HWY  \\\n",
       "0          4          AS5        Z                   9.9                  6.7   \n",
       "1          4           M6        Z                  11.2                  7.7   \n",
       "2          4          AV7        Z                   6.0                  5.8   \n",
       "3          6          AS6        Z                  12.7                  9.1   \n",
       "4          6          AS6        Z                  12.1                  8.7   \n",
       "\n",
       "   FUELCONSUMPTION_COMB  FUELCONSUMPTION_COMB_MPG  CO2EMISSIONS  \n",
       "0                   8.5                        33           196  \n",
       "1                   9.6                        29           221  \n",
       "2                   5.9                        48           136  \n",
       "3                  11.1                        25           255  \n",
       "4                  10.6                        27           244  "
      ]
     },
     "execution_count": 2,
     "metadata": {},
     "output_type": "execute_result"
    }
   ],
   "source": [
    "df=pd.read_csv('../input/fuelconsumption/FuelConsumption_file.csv')\n",
    "df.head()"
   ]
  },
  {
   "cell_type": "code",
   "execution_count": 3,
   "id": "2b77652d",
   "metadata": {
    "execution": {
     "iopub.execute_input": "2022-09-12T15:46:30.707937Z",
     "iopub.status.busy": "2022-09-12T15:46:30.707182Z",
     "iopub.status.idle": "2022-09-12T15:46:30.756586Z",
     "shell.execute_reply": "2022-09-12T15:46:30.755247Z"
    },
    "papermill": {
     "duration": 0.057933,
     "end_time": "2022-09-12T15:46:30.759152",
     "exception": false,
     "start_time": "2022-09-12T15:46:30.701219",
     "status": "completed"
    },
    "tags": []
   },
   "outputs": [
    {
     "data": {
      "text/html": [
       "<div>\n",
       "<style scoped>\n",
       "    .dataframe tbody tr th:only-of-type {\n",
       "        vertical-align: middle;\n",
       "    }\n",
       "\n",
       "    .dataframe tbody tr th {\n",
       "        vertical-align: top;\n",
       "    }\n",
       "\n",
       "    .dataframe thead th {\n",
       "        text-align: right;\n",
       "    }\n",
       "</style>\n",
       "<table border=\"1\" class=\"dataframe\">\n",
       "  <thead>\n",
       "    <tr style=\"text-align: right;\">\n",
       "      <th></th>\n",
       "      <th>Unnamed: 0</th>\n",
       "      <th>MODELYEAR</th>\n",
       "      <th>ENGINESIZE</th>\n",
       "      <th>CYLINDERS</th>\n",
       "      <th>FUELCONSUMPTION_CITY</th>\n",
       "      <th>FUELCONSUMPTION_HWY</th>\n",
       "      <th>FUELCONSUMPTION_COMB</th>\n",
       "      <th>FUELCONSUMPTION_COMB_MPG</th>\n",
       "      <th>CO2EMISSIONS</th>\n",
       "    </tr>\n",
       "  </thead>\n",
       "  <tbody>\n",
       "    <tr>\n",
       "      <th>count</th>\n",
       "      <td>1067.000000</td>\n",
       "      <td>1067.0</td>\n",
       "      <td>1067.000000</td>\n",
       "      <td>1067.000000</td>\n",
       "      <td>1067.000000</td>\n",
       "      <td>1067.000000</td>\n",
       "      <td>1067.000000</td>\n",
       "      <td>1067.000000</td>\n",
       "      <td>1067.000000</td>\n",
       "    </tr>\n",
       "    <tr>\n",
       "      <th>mean</th>\n",
       "      <td>533.000000</td>\n",
       "      <td>2014.0</td>\n",
       "      <td>3.346298</td>\n",
       "      <td>5.794752</td>\n",
       "      <td>13.296532</td>\n",
       "      <td>9.474602</td>\n",
       "      <td>11.580881</td>\n",
       "      <td>26.441425</td>\n",
       "      <td>256.228679</td>\n",
       "    </tr>\n",
       "    <tr>\n",
       "      <th>std</th>\n",
       "      <td>308.160672</td>\n",
       "      <td>0.0</td>\n",
       "      <td>1.415895</td>\n",
       "      <td>1.797447</td>\n",
       "      <td>4.101253</td>\n",
       "      <td>2.794510</td>\n",
       "      <td>3.485595</td>\n",
       "      <td>7.468702</td>\n",
       "      <td>63.372304</td>\n",
       "    </tr>\n",
       "    <tr>\n",
       "      <th>min</th>\n",
       "      <td>0.000000</td>\n",
       "      <td>2014.0</td>\n",
       "      <td>1.000000</td>\n",
       "      <td>3.000000</td>\n",
       "      <td>4.600000</td>\n",
       "      <td>4.900000</td>\n",
       "      <td>4.700000</td>\n",
       "      <td>11.000000</td>\n",
       "      <td>108.000000</td>\n",
       "    </tr>\n",
       "    <tr>\n",
       "      <th>25%</th>\n",
       "      <td>266.500000</td>\n",
       "      <td>2014.0</td>\n",
       "      <td>2.000000</td>\n",
       "      <td>4.000000</td>\n",
       "      <td>10.250000</td>\n",
       "      <td>7.500000</td>\n",
       "      <td>9.000000</td>\n",
       "      <td>21.000000</td>\n",
       "      <td>207.000000</td>\n",
       "    </tr>\n",
       "    <tr>\n",
       "      <th>50%</th>\n",
       "      <td>533.000000</td>\n",
       "      <td>2014.0</td>\n",
       "      <td>3.400000</td>\n",
       "      <td>6.000000</td>\n",
       "      <td>12.600000</td>\n",
       "      <td>8.800000</td>\n",
       "      <td>10.900000</td>\n",
       "      <td>26.000000</td>\n",
       "      <td>251.000000</td>\n",
       "    </tr>\n",
       "    <tr>\n",
       "      <th>75%</th>\n",
       "      <td>799.500000</td>\n",
       "      <td>2014.0</td>\n",
       "      <td>4.300000</td>\n",
       "      <td>8.000000</td>\n",
       "      <td>15.550000</td>\n",
       "      <td>10.850000</td>\n",
       "      <td>13.350000</td>\n",
       "      <td>31.000000</td>\n",
       "      <td>294.000000</td>\n",
       "    </tr>\n",
       "    <tr>\n",
       "      <th>max</th>\n",
       "      <td>1066.000000</td>\n",
       "      <td>2014.0</td>\n",
       "      <td>8.400000</td>\n",
       "      <td>12.000000</td>\n",
       "      <td>30.200000</td>\n",
       "      <td>20.500000</td>\n",
       "      <td>25.800000</td>\n",
       "      <td>60.000000</td>\n",
       "      <td>488.000000</td>\n",
       "    </tr>\n",
       "  </tbody>\n",
       "</table>\n",
       "</div>"
      ],
      "text/plain": [
       "        Unnamed: 0  MODELYEAR   ENGINESIZE    CYLINDERS  FUELCONSUMPTION_CITY  \\\n",
       "count  1067.000000     1067.0  1067.000000  1067.000000           1067.000000   \n",
       "mean    533.000000     2014.0     3.346298     5.794752             13.296532   \n",
       "std     308.160672        0.0     1.415895     1.797447              4.101253   \n",
       "min       0.000000     2014.0     1.000000     3.000000              4.600000   \n",
       "25%     266.500000     2014.0     2.000000     4.000000             10.250000   \n",
       "50%     533.000000     2014.0     3.400000     6.000000             12.600000   \n",
       "75%     799.500000     2014.0     4.300000     8.000000             15.550000   \n",
       "max    1066.000000     2014.0     8.400000    12.000000             30.200000   \n",
       "\n",
       "       FUELCONSUMPTION_HWY  FUELCONSUMPTION_COMB  FUELCONSUMPTION_COMB_MPG  \\\n",
       "count          1067.000000           1067.000000               1067.000000   \n",
       "mean              9.474602             11.580881                 26.441425   \n",
       "std               2.794510              3.485595                  7.468702   \n",
       "min               4.900000              4.700000                 11.000000   \n",
       "25%               7.500000              9.000000                 21.000000   \n",
       "50%               8.800000             10.900000                 26.000000   \n",
       "75%              10.850000             13.350000                 31.000000   \n",
       "max              20.500000             25.800000                 60.000000   \n",
       "\n",
       "       CO2EMISSIONS  \n",
       "count   1067.000000  \n",
       "mean     256.228679  \n",
       "std       63.372304  \n",
       "min      108.000000  \n",
       "25%      207.000000  \n",
       "50%      251.000000  \n",
       "75%      294.000000  \n",
       "max      488.000000  "
      ]
     },
     "execution_count": 3,
     "metadata": {},
     "output_type": "execute_result"
    }
   ],
   "source": [
    "df.describe()"
   ]
  },
  {
   "cell_type": "code",
   "execution_count": 4,
   "id": "8995f86c",
   "metadata": {
    "execution": {
     "iopub.execute_input": "2022-09-12T15:46:30.771300Z",
     "iopub.status.busy": "2022-09-12T15:46:30.770469Z",
     "iopub.status.idle": "2022-09-12T15:46:30.784920Z",
     "shell.execute_reply": "2022-09-12T15:46:30.783587Z"
    },
    "papermill": {
     "duration": 0.023069,
     "end_time": "2022-09-12T15:46:30.787262",
     "exception": false,
     "start_time": "2022-09-12T15:46:30.764193",
     "status": "completed"
    },
    "tags": []
   },
   "outputs": [
    {
     "data": {
      "text/html": [
       "<div>\n",
       "<style scoped>\n",
       "    .dataframe tbody tr th:only-of-type {\n",
       "        vertical-align: middle;\n",
       "    }\n",
       "\n",
       "    .dataframe tbody tr th {\n",
       "        vertical-align: top;\n",
       "    }\n",
       "\n",
       "    .dataframe thead th {\n",
       "        text-align: right;\n",
       "    }\n",
       "</style>\n",
       "<table border=\"1\" class=\"dataframe\">\n",
       "  <thead>\n",
       "    <tr style=\"text-align: right;\">\n",
       "      <th></th>\n",
       "      <th>ENGINESIZE</th>\n",
       "      <th>CYLINDERS</th>\n",
       "      <th>FUELCONSUMPTION_COMB</th>\n",
       "      <th>CO2EMISSIONS</th>\n",
       "    </tr>\n",
       "  </thead>\n",
       "  <tbody>\n",
       "    <tr>\n",
       "      <th>0</th>\n",
       "      <td>2.0</td>\n",
       "      <td>4</td>\n",
       "      <td>8.5</td>\n",
       "      <td>196</td>\n",
       "    </tr>\n",
       "    <tr>\n",
       "      <th>1</th>\n",
       "      <td>2.4</td>\n",
       "      <td>4</td>\n",
       "      <td>9.6</td>\n",
       "      <td>221</td>\n",
       "    </tr>\n",
       "    <tr>\n",
       "      <th>2</th>\n",
       "      <td>1.5</td>\n",
       "      <td>4</td>\n",
       "      <td>5.9</td>\n",
       "      <td>136</td>\n",
       "    </tr>\n",
       "    <tr>\n",
       "      <th>3</th>\n",
       "      <td>3.5</td>\n",
       "      <td>6</td>\n",
       "      <td>11.1</td>\n",
       "      <td>255</td>\n",
       "    </tr>\n",
       "    <tr>\n",
       "      <th>4</th>\n",
       "      <td>3.5</td>\n",
       "      <td>6</td>\n",
       "      <td>10.6</td>\n",
       "      <td>244</td>\n",
       "    </tr>\n",
       "    <tr>\n",
       "      <th>5</th>\n",
       "      <td>3.5</td>\n",
       "      <td>6</td>\n",
       "      <td>10.0</td>\n",
       "      <td>230</td>\n",
       "    </tr>\n",
       "    <tr>\n",
       "      <th>6</th>\n",
       "      <td>3.5</td>\n",
       "      <td>6</td>\n",
       "      <td>10.1</td>\n",
       "      <td>232</td>\n",
       "    </tr>\n",
       "    <tr>\n",
       "      <th>7</th>\n",
       "      <td>3.7</td>\n",
       "      <td>6</td>\n",
       "      <td>11.1</td>\n",
       "      <td>255</td>\n",
       "    </tr>\n",
       "    <tr>\n",
       "      <th>8</th>\n",
       "      <td>3.7</td>\n",
       "      <td>6</td>\n",
       "      <td>11.6</td>\n",
       "      <td>267</td>\n",
       "    </tr>\n",
       "  </tbody>\n",
       "</table>\n",
       "</div>"
      ],
      "text/plain": [
       "   ENGINESIZE  CYLINDERS  FUELCONSUMPTION_COMB  CO2EMISSIONS\n",
       "0         2.0          4                   8.5           196\n",
       "1         2.4          4                   9.6           221\n",
       "2         1.5          4                   5.9           136\n",
       "3         3.5          6                  11.1           255\n",
       "4         3.5          6                  10.6           244\n",
       "5         3.5          6                  10.0           230\n",
       "6         3.5          6                  10.1           232\n",
       "7         3.7          6                  11.1           255\n",
       "8         3.7          6                  11.6           267"
      ]
     },
     "execution_count": 4,
     "metadata": {},
     "output_type": "execute_result"
    }
   ],
   "source": [
    "cdf = df[['ENGINESIZE','CYLINDERS','FUELCONSUMPTION_COMB','CO2EMISSIONS']]\n",
    "cdf.head(9)"
   ]
  },
  {
   "cell_type": "code",
   "execution_count": 5,
   "id": "ee21f230",
   "metadata": {
    "execution": {
     "iopub.execute_input": "2022-09-12T15:46:30.799657Z",
     "iopub.status.busy": "2022-09-12T15:46:30.799004Z",
     "iopub.status.idle": "2022-09-12T15:46:31.322217Z",
     "shell.execute_reply": "2022-09-12T15:46:31.321307Z"
    },
    "papermill": {
     "duration": 0.532028,
     "end_time": "2022-09-12T15:46:31.324529",
     "exception": false,
     "start_time": "2022-09-12T15:46:30.792501",
     "status": "completed"
    },
    "tags": []
   },
   "outputs": [
    {
     "data": {
      "image/png": "[encoded data removed]",
      "text/plain": [
       "<Figure size 432x288 with 4 Axes>"
      ]
     },
     "metadata": {
      "needs_background": "light"
     },
     "output_type": "display_data"
    }
   ],
   "source": [
    "viz = cdf[['CYLINDERS','ENGINESIZE','CO2EMISSIONS','FUELCONSUMPTION_COMB']]\n",
    "viz.hist()\n",
    "plt.show()"
   ]
  },
  {
   "cell_type": "code",
   "execution_count": 6,
   "id": "2d11cc71",
   "metadata": {
    "execution": {
     "iopub.execute_input": "2022-09-12T15:46:31.338074Z",
     "iopub.status.busy": "2022-09-12T15:46:31.336944Z",
     "iopub.status.idle": "2022-09-12T15:46:31.548130Z",
     "shell.execute_reply": "2022-09-12T15:46:31.546944Z"
    },
    "papermill": {
     "duration": 0.220541,
     "end_time": "2022-09-12T15:46:31.550724",
     "exception": false,
     "start_time": "2022-09-12T15:46:31.330183",
     "status": "completed"
    },
    "tags": []
   },
   "outputs": [
    {
     "data": {
      "image/png": "[encoded data removed]",
      "text/plain": [
       "<Figure size 432x288 with 1 Axes>"
      ]
     },
     "metadata": {
      "needs_background": "light"
     },
     "output_type": "display_data"
    }
   ],
   "source": [
    "plt.scatter(cdf.FUELCONSUMPTION_COMB, cdf.CO2EMISSIONS,  color='blue')\n",
    "plt.xlabel(\"FUELCONSUMPTION_COMB\")\n",
    "plt.ylabel(\"Emission\")\n",
    "plt.show()"
   ]
  },
  {
   "cell_type": "code",
   "execution_count": 7,
   "id": "b5ee4305",
   "metadata": {
    "execution": {
     "iopub.execute_input": "2022-09-12T15:46:31.564860Z",
     "iopub.status.busy": "2022-09-12T15:46:31.564058Z",
     "iopub.status.idle": "2022-09-12T15:46:31.737603Z",
     "shell.execute_reply": "2022-09-12T15:46:31.736669Z"
    },
    "papermill": {
     "duration": 0.183518,
     "end_time": "2022-09-12T15:46:31.740095",
     "exception": false,
     "start_time": "2022-09-12T15:46:31.556577",
     "status": "completed"
    },
    "tags": []
   },
   "outputs": [
    {
     "data": {
      "image/png": "[encoded data removed]",
      "text/plain": [
       "<Figure size 432x288 with 1 Axes>"
      ]
     },
     "metadata": {
      "needs_background": "light"
     },
     "output_type": "display_data"
    }
   ],
   "source": [
    "plt.scatter(cdf.ENGINESIZE, cdf.CO2EMISSIONS,  color='blue')\n",
    "plt.xlabel(\"Engine size\")\n",
    "plt.ylabel(\"Emission\")\n",
    "plt.show()"
   ]
  },
  {
   "cell_type": "code",
   "execution_count": 8,
   "id": "50d85c19",
   "metadata": {
    "execution": {
     "iopub.execute_input": "2022-09-12T15:46:31.754546Z",
     "iopub.status.busy": "2022-09-12T15:46:31.753511Z",
     "iopub.status.idle": "2022-09-12T15:46:32.032544Z",
     "shell.execute_reply": "2022-09-12T15:46:32.031111Z"
    },
    "papermill": {
     "duration": 0.289905,
     "end_time": "2022-09-12T15:46:32.036035",
     "exception": false,
     "start_time": "2022-09-12T15:46:31.746130",
     "status": "completed"
    },
    "tags": []
   },
   "outputs": [
    {
     "data": {
      "image/png": "[encoded data removed]",
      "text/plain": [
       "<Figure size 432x288 with 1 Axes>"
      ]
     },
     "metadata": {
      "needs_background": "light"
     },
     "output_type": "display_data"
    }
   ],
   "source": [
    "plt.scatter(cdf.CYLINDERS , cdf.CO2EMISSIONS,color='red')\n",
    "plt.xlabel(\"cylinder\")\n",
    "plt.ylabel(\"CO2EMISSIONS\")\n",
    "plt.show()"
   ]
  },
  {
   "cell_type": "code",
   "execution_count": 9,
   "id": "6720d153",
   "metadata": {
    "execution": {
     "iopub.execute_input": "2022-09-12T15:46:32.052660Z",
     "iopub.status.busy": "2022-09-12T15:46:32.052245Z",
     "iopub.status.idle": "2022-09-12T15:46:32.060178Z",
     "shell.execute_reply": "2022-09-12T15:46:32.058909Z"
    },
    "papermill": {
     "duration": 0.019501,
     "end_time": "2022-09-12T15:46:32.062601",
     "exception": false,
     "start_time": "2022-09-12T15:46:32.043100",
     "status": "completed"
    },
    "tags": []
   },
   "outputs": [],
   "source": [
    "msk = np.random.rand(len(df)) < 0.8\n",
    "train = cdf[msk]\n",
    "test = cdf[~msk]"
   ]
  },
  {
   "cell_type": "code",
   "execution_count": 10,
   "id": "01794c4c",
   "metadata": {
    "execution": {
     "iopub.execute_input": "2022-09-12T15:46:32.077531Z",
     "iopub.status.busy": "2022-09-12T15:46:32.076937Z",
     "iopub.status.idle": "2022-09-12T15:46:32.239863Z",
     "shell.execute_reply": "2022-09-12T15:46:32.238710Z"
    },
    "papermill": {
     "duration": 0.173889,
     "end_time": "2022-09-12T15:46:32.242791",
     "exception": false,
     "start_time": "2022-09-12T15:46:32.068902",
     "status": "completed"
    },
    "tags": []
   },
   "outputs": [
    {
     "data": {
      "image/png": "[encoded data removed]",
      "text/plain": [
       "<Figure size 432x288 with 1 Axes>"
      ]
     },
     "metadata": {
      "needs_background": "light"
     },
     "output_type": "display_data"
    }
   ],
   "source": [
    "plt.scatter(train.ENGINESIZE, train.CO2EMISSIONS,  color='blue')\n",
    "plt.xlabel(\"Engine size\")\n",
    "plt.ylabel(\"Emission\")\n",
    "plt.show()"
   ]
  },
  {
   "cell_type": "code",
   "execution_count": 11,
   "id": "0c9a7495",
   "metadata": {
    "execution": {
     "iopub.execute_input": "2022-09-12T15:46:32.258122Z",
     "iopub.status.busy": "2022-09-12T15:46:32.257692Z",
     "iopub.status.idle": "2022-09-12T15:46:33.546369Z",
     "shell.execute_reply": "2022-09-12T15:46:33.545103Z"
    },
    "papermill": {
     "duration": 1.299858,
     "end_time": "2022-09-12T15:46:33.549529",
     "exception": false,
     "start_time": "2022-09-12T15:46:32.249671",
     "status": "completed"
    },
    "tags": []
   },
   "outputs": [
    {
     "name": "stdout",
     "output_type": "stream",
     "text": [
      "Coefficients:  [[38.85003893]]\n",
      "Intercept:  [126.20056407]\n"
     ]
    }
   ],
   "source": [
    "from sklearn import linear_model\n",
    "regr = linear_model.LinearRegression()\n",
    "train_x = np.asanyarray(train[['ENGINESIZE']])\n",
    "train_y = np.asanyarray(train[['CO2EMISSIONS']])\n",
    "regr.fit(train_x, train_y)\n",
    "# The coefficients\n",
    "print ('Coefficients: ', regr.coef_)\n",
    "print ('Intercept: ',regr.intercept_)"
   ]
  },
  {
   "cell_type": "code",
   "execution_count": 12,
   "id": "03a2bbb7",
   "metadata": {
    "execution": {
     "iopub.execute_input": "2022-09-12T15:46:33.565834Z",
     "iopub.status.busy": "2022-09-12T15:46:33.565132Z",
     "iopub.status.idle": "2022-09-12T15:46:33.761356Z",
     "shell.execute_reply": "2022-09-12T15:46:33.759929Z"
    },
    "papermill": {
     "duration": 0.207032,
     "end_time": "2022-09-12T15:46:33.763923",
     "exception": false,
     "start_time": "2022-09-12T15:46:33.556891",
     "status": "completed"
    },
    "tags": []
   },
   "outputs": [
    {
     "data": {
      "text/plain": [
       "Text(0, 0.5, 'Emission')"
      ]
     },
     "execution_count": 12,
     "metadata": {},
     "output_type": "execute_result"
    },
    {
     "data": {
      "image/png": "[encoded data removed]",
      "text/plain": [
       "<Figure size 432x288 with 1 Axes>"
      ]
     },
     "metadata": {
      "needs_background": "light"
     },
     "output_type": "display_data"
    }
   ],
   "source": [
    "plt.scatter(train.ENGINESIZE, train.CO2EMISSIONS,  color='blue')\n",
    "plt.plot(train_x, regr.coef_[0][0]*train_x + regr.intercept_[0], '-r')\n",
    "plt.xlabel(\"Engine size\")\n",
    "plt.ylabel(\"Emission\")"
   ]
  },
  {
   "cell_type": "code",
   "execution_count": 13,
   "id": "36e4307d",
   "metadata": {
    "execution": {
     "iopub.execute_input": "2022-09-12T15:46:33.780385Z",
     "iopub.status.busy": "2022-09-12T15:46:33.779572Z",
     "iopub.status.idle": "2022-09-12T15:46:33.789551Z",
     "shell.execute_reply": "2022-09-12T15:46:33.788330Z"
    },
    "papermill": {
     "duration": 0.022015,
     "end_time": "2022-09-12T15:46:33.793262",
     "exception": false,
     "start_time": "2022-09-12T15:46:33.771247",
     "status": "completed"
    },
    "tags": []
   },
   "outputs": [
    {
     "name": "stdout",
     "output_type": "stream",
     "text": [
      "Mean absolute error: 21.54\n",
      "Residual sum of squares (MSE): 776.44\n",
      "R2-score: 0.80\n"
     ]
    }
   ],
   "source": [
    "from sklearn.metrics import r2_score\n",
    "\n",
    "test_x = np.asanyarray(test[['ENGINESIZE']])\n",
    "test_y = np.asanyarray(test[['CO2EMISSIONS']])\n",
    "test_y_ = regr.predict(test_x)\n",
    "\n",
    "print(\"Mean absolute error: %.2f\" % np.mean(np.absolute(test_y_ - test_y)))\n",
    "print(\"Residual sum of squares (MSE): %.2f\" % np.mean((test_y_ - test_y) ** 2))\n",
    "print(\"R2-score: %.2f\" % r2_score(test_y , test_y_) )"
   ]
  },
  {
   "cell_type": "code",
   "execution_count": 14,
   "id": "86871ef5",
   "metadata": {
    "execution": {
     "iopub.execute_input": "2022-09-12T15:46:33.810240Z",
     "iopub.status.busy": "2022-09-12T15:46:33.809512Z",
     "iopub.status.idle": "2022-09-12T15:46:33.818382Z",
     "shell.execute_reply": "2022-09-12T15:46:33.817563Z"
    },
    "papermill": {
     "duration": 0.019844,
     "end_time": "2022-09-12T15:46:33.820776",
     "exception": false,
     "start_time": "2022-09-12T15:46:33.800932",
     "status": "completed"
    },
    "tags": []
   },
   "outputs": [
    {
     "name": "stdout",
     "output_type": "stream",
     "text": [
      "Coefficients:  [[15.98292196]]\n",
      "Intercept:  [70.88973174]\n"
     ]
    }
   ],
   "source": [
    "regr1 = linear_model.LinearRegression()\n",
    "train_x = np.asanyarray(train[['FUELCONSUMPTION_COMB']])\n",
    "train_y = np.asanyarray(train[['CO2EMISSIONS']])\n",
    "regr1.fit(train_x,train_y)\n",
    "# The coefficients\n",
    "print ('Coefficients: ', regr1.coef_)\n",
    "print ('Intercept: ',regr1.intercept_)"
   ]
  },
  {
   "cell_type": "code",
   "execution_count": 15,
   "id": "a43fbc2a",
   "metadata": {
    "execution": {
     "iopub.execute_input": "2022-09-12T15:46:33.837532Z",
     "iopub.status.busy": "2022-09-12T15:46:33.836808Z",
     "iopub.status.idle": "2022-09-12T15:46:33.847711Z",
     "shell.execute_reply": "2022-09-12T15:46:33.846442Z"
    },
    "papermill": {
     "duration": 0.022178,
     "end_time": "2022-09-12T15:46:33.850334",
     "exception": false,
     "start_time": "2022-09-12T15:46:33.828156",
     "status": "completed"
    },
    "tags": []
   },
   "outputs": [
    {
     "name": "stdout",
     "output_type": "stream",
     "text": [
      "Mean absolute error: 18.71\n",
      "Residual sum of squares (MSE): 678.83\n",
      "R2-score: 0.76\n"
     ]
    }
   ],
   "source": [
    "actual=np.asanyarray(test[['CO2EMISSIONS']])\n",
    "test_x = np.asanyarray(test[['FUELCONSUMPTION_COMB']])\n",
    "predicted = regr1.predict(test_x)\n",
    "print(\"Mean absolute error: %.2f\" % np.mean(np.absolute(predicted-actual)))\n",
    "print(\"Residual sum of squares (MSE): %.2f\" % np.mean((predicted-actual) ** 2))\n",
    "print(\"R2-score: %.2f\" % r2_score(predicted ,actual) )"
   ]
  }
 ],
 "metadata": {
  "kernelspec": {
   "display_name": "Python 3",
   "language": "python",
   "name": "python3"
  },
  "language_info": {
   "codemirror_mode": {
    "name": "ipython",
    "version": 3
   },
   "file_extension": ".py",
   "mimetype": "text/x-python",
   "name": "python",
   "nbconvert_exporter": "python",
   "pygments_lexer": "ipython3",
   "version": "3.7.12"
  },
  "papermill": {
   "default_parameters": {},
   "duration": 13.299716,
   "end_time": "2022-09-12T15:46:34.579715",
   "environment_variables": {},
   "exception": null,
   "input_path": "__notebook__.ipynb",
   "output_path": "__notebook__.ipynb",
   "parameters": {},
   "start_time": "2022-09-12T15:46:21.279999",
   "version": "2.3.4"
  }
 },
 "nbformat": 4,
 "nbformat_minor": 5
}
